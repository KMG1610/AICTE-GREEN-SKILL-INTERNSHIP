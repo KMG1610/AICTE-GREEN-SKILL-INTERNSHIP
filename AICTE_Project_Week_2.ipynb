{
  "nbformat": 4,
  "nbformat_minor": 0,
  "metadata": {
    "colab": {
      "provenance": []
    },
    "kernelspec": {
      "name": "python3",
      "display_name": "Python 3"
    },
    "language_info": {
      "name": "python"
    }
  },
  "cells": [
    {
      "cell_type": "markdown",
      "source": [
        "# **Energy Consumption Predictor for a Household**"
      ],
      "metadata": {
        "id": "57Dox_GpnOC7"
      }
    },
    {
      "cell_type": "markdown",
      "source": [
        "## **Problem Statement:**\n",
        "\n",
        "Develop a predictive model to forecast daily household energy consumption using historical data. The goal is to use features such as date and time to estimate daily energy usage (measured in kWh), helping households optimize consumption and reduce waste, aligning with sustainable energy practices."
      ],
      "metadata": {
        "id": "Yn7LzeXgnhTq"
      }
    },
    {
      "cell_type": "markdown",
      "source": [
        "## **Importing Required Libraries:**"
      ],
      "metadata": {
        "id": "_W54XJ08othd"
      }
    },
    {
      "cell_type": "code",
      "source": [
        "import numpy as np\n",
        "import pandas as pd\n",
        "from sklearn.model_selection import train_test_split\n",
        "from sklearn.linear_model import LinearRegression\n",
        "from sklearn.metrics import mean_absolute_error, mean_squared_error\n",
        "import matplotlib.pyplot as plt\n",
        "import joblib"
      ],
      "metadata": {
        "id": "LHE-DI2IoGFB"
      },
      "execution_count": 2,
      "outputs": []
    },
    {
      "cell_type": "markdown",
      "source": [
        "## **Dataset Overview:**"
      ],
      "metadata": {
        "id": "tNtfck3woq1N"
      }
    },
    {
      "cell_type": "markdown",
      "source": [
        "### **Dataset Details:**\n",
        "* **Dataset Name:** household_power_consumption\n",
        "* **source:** https://www.kaggle.com/datasets/imtkaggleteam/household-power-consumption       \n",
        "* **File Format** : .csv\n",
        "### **Dataset Description:**\n",
        "The Household Electric Power Consumption dataset contains minute-by-minute energy consumption data from a single household in Belgium, collected over the period from 2006 to 2010. For this project, the data will be aggregated to daily totals to forecast daily energy usage, making it suitable for analyzing consumption patterns and supporting energy efficiency goals.\n",
        "\n",
        "### **Feature Description:**\n",
        "* **Date:** The date of the measurement, recorded daily.\n",
        "* **Global_active_power:** The total active power consumption for the day, measured in kilowatt-hours (kWh), representing the primary energy usage metric to predict.\n",
        "* **Global_reactive_power:** The reactive power consumption for the day in kWh, providing additional context on energy dynamics.\n",
        "* **Voltage:** The average voltage measurement for the day, reflecting electrical conditions.\n",
        "* **Global_intensity:** The average current intensity for the day, indicating electrical load.\n",
        "* **Sub_metering_1:** Energy consumption of kitchen appliances in kWh, offering a breakdown of usage.\n",
        "* **Sub_metering_2:** Energy consumption of laundry appliances in kWh, providing further usage segmentation.\n",
        "* **Sub_metering_3:** Energy consumption of other devices (e.g., water heater, air conditioning) in kWh."
      ],
      "metadata": {
        "id": "v5QODOcZpUvQ"
      }
    },
    {
      "cell_type": "markdown",
      "source": [
        "## **Loading the Dataset:**"
      ],
      "metadata": {
        "id": "xk_HU3WTt5Jo"
      }
    },
    {
      "cell_type": "code",
      "source": [
        "from google.colab import drive\n",
        "drive.mount('/content/drive')"
      ],
      "metadata": {
        "colab": {
          "base_uri": "https://localhost:8080/"
        },
        "id": "NZ2VFE3KZ1qP",
        "outputId": "b043d4ee-ee66-45d7-9737-fb8d7373c7eb"
      },
      "execution_count": 1,
      "outputs": [
        {
          "output_type": "stream",
          "name": "stdout",
          "text": [
            "Mounted at /content/drive\n"
          ]
        }
      ]
    },
    {
      "cell_type": "code",
      "source": [
        "df = pd.read_csv('/content/drive/MyDrive/household_power_consumption.csv')"
      ],
      "metadata": {
        "id": "FR3fmU8popDH"
      },
      "execution_count": 3,
      "outputs": []
    },
    {
      "cell_type": "markdown",
      "metadata": {
        "id": "29adeac6-5a4b-44e3-990b-79622078816d"
      },
      "source": [
        "#### **Exploring and Understanding the Data**"
      ]
    },
    {
      "cell_type": "code",
      "source": [
        "df"
      ],
      "metadata": {
        "colab": {
          "base_uri": "https://localhost:8080/",
          "height": 443
        },
        "id": "8xoPp6bBuHte",
        "outputId": "60b65109-fb7a-465d-a4f6-edeae152ad20"
      },
      "execution_count": 4,
      "outputs": [
        {
          "output_type": "execute_result",
          "data": {
            "text/plain": [
              "               Date      Time Global_active_power Global_reactive_power  \\\n",
              "0        16/12/2006  17:24:00               4.216                 0.418   \n",
              "1        16/12/2006  17:25:00                5.36                 0.436   \n",
              "2        16/12/2006  17:26:00               5.374                 0.498   \n",
              "3        16/12/2006  17:27:00               5.388                 0.502   \n",
              "4        16/12/2006  17:28:00               3.666                 0.528   \n",
              "...             ...       ...                 ...                   ...   \n",
              "1048570  13/12/2008  21:34:00               0.426                 0.076   \n",
              "1048571  13/12/2008  21:35:00               0.424                 0.076   \n",
              "1048572  13/12/2008  21:36:00               0.422                 0.076   \n",
              "1048573  13/12/2008  21:37:00               0.422                 0.078   \n",
              "1048574  13/12/2008  21:38:00               0.422                 0.078   \n",
              "\n",
              "        Voltage Global_intensity Sub_metering_1 Sub_metering_2  Sub_metering_3  \n",
              "0        234.84             18.4              0              1            17.0  \n",
              "1        233.63               23              0              1            16.0  \n",
              "2        233.29               23              0              2            17.0  \n",
              "3        233.74               23              0              1            17.0  \n",
              "4        235.68             15.8              0              1            17.0  \n",
              "...         ...              ...            ...            ...             ...  \n",
              "1048570  242.27              1.8              0              0             0.0  \n",
              "1048571   242.1              1.8              0              0             0.0  \n",
              "1048572  241.73              1.8              0              0             0.0  \n",
              "1048573  242.56              1.8              0              0             0.0  \n",
              "1048574  242.61              1.8              0              0             0.0  \n",
              "\n",
              "[1048575 rows x 9 columns]"
            ],
            "text/html": [
              "\n",
              "  <div id=\"df-9ef26d84-d8b8-4f84-8c5c-767f2228f331\" class=\"colab-df-container\">\n",
              "    <div>\n",
              "<style scoped>\n",
              "    .dataframe tbody tr th:only-of-type {\n",
              "        vertical-align: middle;\n",
              "    }\n",
              "\n",
              "    .dataframe tbody tr th {\n",
              "        vertical-align: top;\n",
              "    }\n",
              "\n",
              "    .dataframe thead th {\n",
              "        text-align: right;\n",
              "    }\n",
              "</style>\n",
              "<table border=\"1\" class=\"dataframe\">\n",
              "  <thead>\n",
              "    <tr style=\"text-align: right;\">\n",
              "      <th></th>\n",
              "      <th>Date</th>\n",
              "      <th>Time</th>\n",
              "      <th>Global_active_power</th>\n",
              "      <th>Global_reactive_power</th>\n",
              "      <th>Voltage</th>\n",
              "      <th>Global_intensity</th>\n",
              "      <th>Sub_metering_1</th>\n",
              "      <th>Sub_metering_2</th>\n",
              "      <th>Sub_metering_3</th>\n",
              "    </tr>\n",
              "  </thead>\n",
              "  <tbody>\n",
              "    <tr>\n",
              "      <th>0</th>\n",
              "      <td>16/12/2006</td>\n",
              "      <td>17:24:00</td>\n",
              "      <td>4.216</td>\n",
              "      <td>0.418</td>\n",
              "      <td>234.84</td>\n",
              "      <td>18.4</td>\n",
              "      <td>0</td>\n",
              "      <td>1</td>\n",
              "      <td>17.0</td>\n",
              "    </tr>\n",
              "    <tr>\n",
              "      <th>1</th>\n",
              "      <td>16/12/2006</td>\n",
              "      <td>17:25:00</td>\n",
              "      <td>5.36</td>\n",
              "      <td>0.436</td>\n",
              "      <td>233.63</td>\n",
              "      <td>23</td>\n",
              "      <td>0</td>\n",
              "      <td>1</td>\n",
              "      <td>16.0</td>\n",
              "    </tr>\n",
              "    <tr>\n",
              "      <th>2</th>\n",
              "      <td>16/12/2006</td>\n",
              "      <td>17:26:00</td>\n",
              "      <td>5.374</td>\n",
              "      <td>0.498</td>\n",
              "      <td>233.29</td>\n",
              "      <td>23</td>\n",
              "      <td>0</td>\n",
              "      <td>2</td>\n",
              "      <td>17.0</td>\n",
              "    </tr>\n",
              "    <tr>\n",
              "      <th>3</th>\n",
              "      <td>16/12/2006</td>\n",
              "      <td>17:27:00</td>\n",
              "      <td>5.388</td>\n",
              "      <td>0.502</td>\n",
              "      <td>233.74</td>\n",
              "      <td>23</td>\n",
              "      <td>0</td>\n",
              "      <td>1</td>\n",
              "      <td>17.0</td>\n",
              "    </tr>\n",
              "    <tr>\n",
              "      <th>4</th>\n",
              "      <td>16/12/2006</td>\n",
              "      <td>17:28:00</td>\n",
              "      <td>3.666</td>\n",
              "      <td>0.528</td>\n",
              "      <td>235.68</td>\n",
              "      <td>15.8</td>\n",
              "      <td>0</td>\n",
              "      <td>1</td>\n",
              "      <td>17.0</td>\n",
              "    </tr>\n",
              "    <tr>\n",
              "      <th>...</th>\n",
              "      <td>...</td>\n",
              "      <td>...</td>\n",
              "      <td>...</td>\n",
              "      <td>...</td>\n",
              "      <td>...</td>\n",
              "      <td>...</td>\n",
              "      <td>...</td>\n",
              "      <td>...</td>\n",
              "      <td>...</td>\n",
              "    </tr>\n",
              "    <tr>\n",
              "      <th>1048570</th>\n",
              "      <td>13/12/2008</td>\n",
              "      <td>21:34:00</td>\n",
              "      <td>0.426</td>\n",
              "      <td>0.076</td>\n",
              "      <td>242.27</td>\n",
              "      <td>1.8</td>\n",
              "      <td>0</td>\n",
              "      <td>0</td>\n",
              "      <td>0.0</td>\n",
              "    </tr>\n",
              "    <tr>\n",
              "      <th>1048571</th>\n",
              "      <td>13/12/2008</td>\n",
              "      <td>21:35:00</td>\n",
              "      <td>0.424</td>\n",
              "      <td>0.076</td>\n",
              "      <td>242.1</td>\n",
              "      <td>1.8</td>\n",
              "      <td>0</td>\n",
              "      <td>0</td>\n",
              "      <td>0.0</td>\n",
              "    </tr>\n",
              "    <tr>\n",
              "      <th>1048572</th>\n",
              "      <td>13/12/2008</td>\n",
              "      <td>21:36:00</td>\n",
              "      <td>0.422</td>\n",
              "      <td>0.076</td>\n",
              "      <td>241.73</td>\n",
              "      <td>1.8</td>\n",
              "      <td>0</td>\n",
              "      <td>0</td>\n",
              "      <td>0.0</td>\n",
              "    </tr>\n",
              "    <tr>\n",
              "      <th>1048573</th>\n",
              "      <td>13/12/2008</td>\n",
              "      <td>21:37:00</td>\n",
              "      <td>0.422</td>\n",
              "      <td>0.078</td>\n",
              "      <td>242.56</td>\n",
              "      <td>1.8</td>\n",
              "      <td>0</td>\n",
              "      <td>0</td>\n",
              "      <td>0.0</td>\n",
              "    </tr>\n",
              "    <tr>\n",
              "      <th>1048574</th>\n",
              "      <td>13/12/2008</td>\n",
              "      <td>21:38:00</td>\n",
              "      <td>0.422</td>\n",
              "      <td>0.078</td>\n",
              "      <td>242.61</td>\n",
              "      <td>1.8</td>\n",
              "      <td>0</td>\n",
              "      <td>0</td>\n",
              "      <td>0.0</td>\n",
              "    </tr>\n",
              "  </tbody>\n",
              "</table>\n",
              "<p>1048575 rows × 9 columns</p>\n",
              "</div>\n",
              "    <div class=\"colab-df-buttons\">\n",
              "\n",
              "  <div class=\"colab-df-container\">\n",
              "    <button class=\"colab-df-convert\" onclick=\"convertToInteractive('df-9ef26d84-d8b8-4f84-8c5c-767f2228f331')\"\n",
              "            title=\"Convert this dataframe to an interactive table.\"\n",
              "            style=\"display:none;\">\n",
              "\n",
              "  <svg xmlns=\"http://www.w3.org/2000/svg\" height=\"24px\" viewBox=\"0 -960 960 960\">\n",
              "    <path d=\"M120-120v-720h720v720H120Zm60-500h600v-160H180v160Zm220 220h160v-160H400v160Zm0 220h160v-160H400v160ZM180-400h160v-160H180v160Zm440 0h160v-160H620v160ZM180-180h160v-160H180v160Zm440 0h160v-160H620v160Z\"/>\n",
              "  </svg>\n",
              "    </button>\n",
              "\n",
              "  <style>\n",
              "    .colab-df-container {\n",
              "      display:flex;\n",
              "      gap: 12px;\n",
              "    }\n",
              "\n",
              "    .colab-df-convert {\n",
              "      background-color: #E8F0FE;\n",
              "      border: none;\n",
              "      border-radius: 50%;\n",
              "      cursor: pointer;\n",
              "      display: none;\n",
              "      fill: #1967D2;\n",
              "      height: 32px;\n",
              "      padding: 0 0 0 0;\n",
              "      width: 32px;\n",
              "    }\n",
              "\n",
              "    .colab-df-convert:hover {\n",
              "      background-color: #E2EBFA;\n",
              "      box-shadow: 0px 1px 2px rgba(60, 64, 67, 0.3), 0px 1px 3px 1px rgba(60, 64, 67, 0.15);\n",
              "      fill: #174EA6;\n",
              "    }\n",
              "\n",
              "    .colab-df-buttons div {\n",
              "      margin-bottom: 4px;\n",
              "    }\n",
              "\n",
              "    [theme=dark] .colab-df-convert {\n",
              "      background-color: #3B4455;\n",
              "      fill: #D2E3FC;\n",
              "    }\n",
              "\n",
              "    [theme=dark] .colab-df-convert:hover {\n",
              "      background-color: #434B5C;\n",
              "      box-shadow: 0px 1px 3px 1px rgba(0, 0, 0, 0.15);\n",
              "      filter: drop-shadow(0px 1px 2px rgba(0, 0, 0, 0.3));\n",
              "      fill: #FFFFFF;\n",
              "    }\n",
              "  </style>\n",
              "\n",
              "    <script>\n",
              "      const buttonEl =\n",
              "        document.querySelector('#df-9ef26d84-d8b8-4f84-8c5c-767f2228f331 button.colab-df-convert');\n",
              "      buttonEl.style.display =\n",
              "        google.colab.kernel.accessAllowed ? 'block' : 'none';\n",
              "\n",
              "      async function convertToInteractive(key) {\n",
              "        const element = document.querySelector('#df-9ef26d84-d8b8-4f84-8c5c-767f2228f331');\n",
              "        const dataTable =\n",
              "          await google.colab.kernel.invokeFunction('convertToInteractive',\n",
              "                                                    [key], {});\n",
              "        if (!dataTable) return;\n",
              "\n",
              "        const docLinkHtml = 'Like what you see? Visit the ' +\n",
              "          '<a target=\"_blank\" href=https://colab.research.google.com/notebooks/data_table.ipynb>data table notebook</a>'\n",
              "          + ' to learn more about interactive tables.';\n",
              "        element.innerHTML = '';\n",
              "        dataTable['output_type'] = 'display_data';\n",
              "        await google.colab.output.renderOutput(dataTable, element);\n",
              "        const docLink = document.createElement('div');\n",
              "        docLink.innerHTML = docLinkHtml;\n",
              "        element.appendChild(docLink);\n",
              "      }\n",
              "    </script>\n",
              "  </div>\n",
              "\n",
              "\n",
              "    <div id=\"df-32ba0513-b3e7-492c-b60b-a6bee15ef847\">\n",
              "      <button class=\"colab-df-quickchart\" onclick=\"quickchart('df-32ba0513-b3e7-492c-b60b-a6bee15ef847')\"\n",
              "                title=\"Suggest charts\"\n",
              "                style=\"display:none;\">\n",
              "\n",
              "<svg xmlns=\"http://www.w3.org/2000/svg\" height=\"24px\"viewBox=\"0 0 24 24\"\n",
              "     width=\"24px\">\n",
              "    <g>\n",
              "        <path d=\"M19 3H5c-1.1 0-2 .9-2 2v14c0 1.1.9 2 2 2h14c1.1 0 2-.9 2-2V5c0-1.1-.9-2-2-2zM9 17H7v-7h2v7zm4 0h-2V7h2v10zm4 0h-2v-4h2v4z\"/>\n",
              "    </g>\n",
              "</svg>\n",
              "      </button>\n",
              "\n",
              "<style>\n",
              "  .colab-df-quickchart {\n",
              "      --bg-color: #E8F0FE;\n",
              "      --fill-color: #1967D2;\n",
              "      --hover-bg-color: #E2EBFA;\n",
              "      --hover-fill-color: #174EA6;\n",
              "      --disabled-fill-color: #AAA;\n",
              "      --disabled-bg-color: #DDD;\n",
              "  }\n",
              "\n",
              "  [theme=dark] .colab-df-quickchart {\n",
              "      --bg-color: #3B4455;\n",
              "      --fill-color: #D2E3FC;\n",
              "      --hover-bg-color: #434B5C;\n",
              "      --hover-fill-color: #FFFFFF;\n",
              "      --disabled-bg-color: #3B4455;\n",
              "      --disabled-fill-color: #666;\n",
              "  }\n",
              "\n",
              "  .colab-df-quickchart {\n",
              "    background-color: var(--bg-color);\n",
              "    border: none;\n",
              "    border-radius: 50%;\n",
              "    cursor: pointer;\n",
              "    display: none;\n",
              "    fill: var(--fill-color);\n",
              "    height: 32px;\n",
              "    padding: 0;\n",
              "    width: 32px;\n",
              "  }\n",
              "\n",
              "  .colab-df-quickchart:hover {\n",
              "    background-color: var(--hover-bg-color);\n",
              "    box-shadow: 0 1px 2px rgba(60, 64, 67, 0.3), 0 1px 3px 1px rgba(60, 64, 67, 0.15);\n",
              "    fill: var(--button-hover-fill-color);\n",
              "  }\n",
              "\n",
              "  .colab-df-quickchart-complete:disabled,\n",
              "  .colab-df-quickchart-complete:disabled:hover {\n",
              "    background-color: var(--disabled-bg-color);\n",
              "    fill: var(--disabled-fill-color);\n",
              "    box-shadow: none;\n",
              "  }\n",
              "\n",
              "  .colab-df-spinner {\n",
              "    border: 2px solid var(--fill-color);\n",
              "    border-color: transparent;\n",
              "    border-bottom-color: var(--fill-color);\n",
              "    animation:\n",
              "      spin 1s steps(1) infinite;\n",
              "  }\n",
              "\n",
              "  @keyframes spin {\n",
              "    0% {\n",
              "      border-color: transparent;\n",
              "      border-bottom-color: var(--fill-color);\n",
              "      border-left-color: var(--fill-color);\n",
              "    }\n",
              "    20% {\n",
              "      border-color: transparent;\n",
              "      border-left-color: var(--fill-color);\n",
              "      border-top-color: var(--fill-color);\n",
              "    }\n",
              "    30% {\n",
              "      border-color: transparent;\n",
              "      border-left-color: var(--fill-color);\n",
              "      border-top-color: var(--fill-color);\n",
              "      border-right-color: var(--fill-color);\n",
              "    }\n",
              "    40% {\n",
              "      border-color: transparent;\n",
              "      border-right-color: var(--fill-color);\n",
              "      border-top-color: var(--fill-color);\n",
              "    }\n",
              "    60% {\n",
              "      border-color: transparent;\n",
              "      border-right-color: var(--fill-color);\n",
              "    }\n",
              "    80% {\n",
              "      border-color: transparent;\n",
              "      border-right-color: var(--fill-color);\n",
              "      border-bottom-color: var(--fill-color);\n",
              "    }\n",
              "    90% {\n",
              "      border-color: transparent;\n",
              "      border-bottom-color: var(--fill-color);\n",
              "    }\n",
              "  }\n",
              "</style>\n",
              "\n",
              "      <script>\n",
              "        async function quickchart(key) {\n",
              "          const quickchartButtonEl =\n",
              "            document.querySelector('#' + key + ' button');\n",
              "          quickchartButtonEl.disabled = true;  // To prevent multiple clicks.\n",
              "          quickchartButtonEl.classList.add('colab-df-spinner');\n",
              "          try {\n",
              "            const charts = await google.colab.kernel.invokeFunction(\n",
              "                'suggestCharts', [key], {});\n",
              "          } catch (error) {\n",
              "            console.error('Error during call to suggestCharts:', error);\n",
              "          }\n",
              "          quickchartButtonEl.classList.remove('colab-df-spinner');\n",
              "          quickchartButtonEl.classList.add('colab-df-quickchart-complete');\n",
              "        }\n",
              "        (() => {\n",
              "          let quickchartButtonEl =\n",
              "            document.querySelector('#df-32ba0513-b3e7-492c-b60b-a6bee15ef847 button');\n",
              "          quickchartButtonEl.style.display =\n",
              "            google.colab.kernel.accessAllowed ? 'block' : 'none';\n",
              "        })();\n",
              "      </script>\n",
              "    </div>\n",
              "\n",
              "  <div id=\"id_55043516-e118-4054-b371-468db1bbdec9\">\n",
              "    <style>\n",
              "      .colab-df-generate {\n",
              "        background-color: #E8F0FE;\n",
              "        border: none;\n",
              "        border-radius: 50%;\n",
              "        cursor: pointer;\n",
              "        display: none;\n",
              "        fill: #1967D2;\n",
              "        height: 32px;\n",
              "        padding: 0 0 0 0;\n",
              "        width: 32px;\n",
              "      }\n",
              "\n",
              "      .colab-df-generate:hover {\n",
              "        background-color: #E2EBFA;\n",
              "        box-shadow: 0px 1px 2px rgba(60, 64, 67, 0.3), 0px 1px 3px 1px rgba(60, 64, 67, 0.15);\n",
              "        fill: #174EA6;\n",
              "      }\n",
              "\n",
              "      [theme=dark] .colab-df-generate {\n",
              "        background-color: #3B4455;\n",
              "        fill: #D2E3FC;\n",
              "      }\n",
              "\n",
              "      [theme=dark] .colab-df-generate:hover {\n",
              "        background-color: #434B5C;\n",
              "        box-shadow: 0px 1px 3px 1px rgba(0, 0, 0, 0.15);\n",
              "        filter: drop-shadow(0px 1px 2px rgba(0, 0, 0, 0.3));\n",
              "        fill: #FFFFFF;\n",
              "      }\n",
              "    </style>\n",
              "    <button class=\"colab-df-generate\" onclick=\"generateWithVariable('df')\"\n",
              "            title=\"Generate code using this dataframe.\"\n",
              "            style=\"display:none;\">\n",
              "\n",
              "  <svg xmlns=\"http://www.w3.org/2000/svg\" height=\"24px\"viewBox=\"0 0 24 24\"\n",
              "       width=\"24px\">\n",
              "    <path d=\"M7,19H8.4L18.45,9,17,7.55,7,17.6ZM5,21V16.75L18.45,3.32a2,2,0,0,1,2.83,0l1.4,1.43a1.91,1.91,0,0,1,.58,1.4,1.91,1.91,0,0,1-.58,1.4L9.25,21ZM18.45,9,17,7.55Zm-12,3A5.31,5.31,0,0,0,4.9,8.1,5.31,5.31,0,0,0,1,6.5,5.31,5.31,0,0,0,4.9,4.9,5.31,5.31,0,0,0,6.5,1,5.31,5.31,0,0,0,8.1,4.9,5.31,5.31,0,0,0,12,6.5,5.46,5.46,0,0,0,6.5,12Z\"/>\n",
              "  </svg>\n",
              "    </button>\n",
              "    <script>\n",
              "      (() => {\n",
              "      const buttonEl =\n",
              "        document.querySelector('#id_55043516-e118-4054-b371-468db1bbdec9 button.colab-df-generate');\n",
              "      buttonEl.style.display =\n",
              "        google.colab.kernel.accessAllowed ? 'block' : 'none';\n",
              "\n",
              "      buttonEl.onclick = () => {\n",
              "        google.colab.notebook.generateWithVariable('df');\n",
              "      }\n",
              "      })();\n",
              "    </script>\n",
              "  </div>\n",
              "\n",
              "    </div>\n",
              "  </div>\n"
            ],
            "application/vnd.google.colaboratory.intrinsic+json": {
              "type": "dataframe",
              "variable_name": "df"
            }
          },
          "metadata": {},
          "execution_count": 4
        }
      ]
    },
    {
      "cell_type": "markdown",
      "source": [
        "## **Preparing Features for Modeling**"
      ],
      "metadata": {
        "id": "oeF6gVfDKkvU"
      }
    },
    {
      "cell_type": "code",
      "source": [
        "df['Datetime'] = pd.to_datetime(df['Date'] + ' ' + df['Time'], format='%d/%m/%Y %H:%M:%S')\n",
        "df = df.drop(['Date', 'Time'], axis=1)\n",
        "df_numeric = df.drop('Datetime', axis=1).apply(pd.to_numeric, errors='coerce')\n",
        "df_numeric['Datetime'] = df['Datetime']\n",
        "df_numeric.set_index('Datetime', inplace=True)\n",
        "daily_df = df_numeric.resample('D').agg({\n",
        "'Global_active_power': 'sum',\n",
        "'Global_reactive_power': 'sum',\n",
        "'Voltage': 'mean',\n",
        "'Global_intensity': 'mean',\n",
        "'Sub_metering_1': 'sum',\n",
        "'Sub_metering_2': 'sum',\n",
        "'Sub_metering_3': 'sum'\n",
        "}).reset_index()\n",
        "daily_df['Global_active_power'] = daily_df['Global_active_power'] / 60"
      ],
      "metadata": {
        "id": "BkZxYkZAJhFl"
      },
      "execution_count": 5,
      "outputs": []
    },
    {
      "cell_type": "markdown",
      "source": [
        "## **Checking data summary**"
      ],
      "metadata": {
        "id": "TLpzhFIBLTM6"
      }
    },
    {
      "cell_type": "code",
      "source": [
        "print(\"Data Summary:\\n\", daily_df.describe())"
      ],
      "metadata": {
        "colab": {
          "base_uri": "https://localhost:8080/"
        },
        "id": "AHBCjiaoJt7H",
        "outputId": "7fe42118-7364-4e31-810d-725d78a05339"
      },
      "execution_count": 6,
      "outputs": [
        {
          "output_type": "stream",
          "name": "stdout",
          "text": [
            "Data Summary:\n",
            "                   Datetime  Global_active_power  Global_reactive_power  \\\n",
            "count                  729           729.000000             729.000000   \n",
            "mean   2007-12-15 00:00:00            26.463736             169.460971   \n",
            "min    2006-12-16 00:00:00             0.000000               0.000000   \n",
            "25%    2007-06-16 00:00:00            18.924500             135.894000   \n",
            "50%    2007-12-15 00:00:00            26.271667             165.224000   \n",
            "75%    2008-06-14 00:00:00            32.846033             192.446000   \n",
            "max    2008-12-13 00:00:00            79.556433             392.272000   \n",
            "std                    NaN            11.372870              46.400978   \n",
            "\n",
            "          Voltage  Global_intensity  Sub_metering_1  Sub_metering_2  \\\n",
            "count  728.000000        728.000000      729.000000      729.000000   \n",
            "mean   239.944278          4.725127     1687.043896     2113.622771   \n",
            "min    231.088229          0.808333        0.000000        0.000000   \n",
            "25%    239.499859          3.433854      754.000000      422.000000   \n",
            "50%    240.328910          4.651528     1133.000000      949.000000   \n",
            "75%    241.066569          5.773333     2325.000000     3214.000000   \n",
            "max    243.767361         14.028056    10346.000000    12109.000000   \n",
            "std      2.023373          1.978826     1627.353876     2244.763885   \n",
            "\n",
            "       Sub_metering_3  \n",
            "count      729.000000  \n",
            "mean      8501.958848  \n",
            "min          0.000000  \n",
            "25%       6069.000000  \n",
            "50%       8657.000000  \n",
            "75%      11026.000000  \n",
            "max      19509.000000  \n",
            "std       3598.509031  \n"
          ]
        }
      ]
    },
    {
      "cell_type": "markdown",
      "source": [
        "## **Filling missing values with column means**"
      ],
      "metadata": {
        "id": "2yg0mtwrL-Bf"
      }
    },
    {
      "cell_type": "code",
      "source": [
        "daily_df = daily_df.fillna(daily_df.mean())"
      ],
      "metadata": {
        "id": "n_9kvPMQJxDS"
      },
      "execution_count": 7,
      "outputs": []
    },
    {
      "cell_type": "markdown",
      "source": [
        "## **Extracting features and defining target**\n"
      ],
      "metadata": {
        "id": "DOCQPJ7CMMHr"
      }
    },
    {
      "cell_type": "code",
      "source": [
        "daily_df['Day_of_Week'] = daily_df['Datetime'].dt.dayofweek\n",
        "daily_df['Month'] = daily_df['Datetime'].dt.month\n",
        "X = daily_df[['Day_of_Week', 'Month', 'Voltage', 'Sub_metering_1', 'Global_intensity', 'Sub_metering_2']]\n",
        "y = daily_df['Global_active_power']"
      ],
      "metadata": {
        "id": "lmI0w1VFJzk5"
      },
      "execution_count": 8,
      "outputs": []
    },
    {
      "cell_type": "markdown",
      "source": [
        "## **Spliting the data**\n"
      ],
      "metadata": {
        "id": "7SSY7ghQMbut"
      }
    },
    {
      "cell_type": "code",
      "source": [
        "X_train, X_test, y_train, y_test = train_test_split(X, y, test_size=0.2, random_state=42)\n",
        "print(\"Training set size:\", X_train.shape)\n",
        "print(\"Testing set size:\", X_test.shape)"
      ],
      "metadata": {
        "colab": {
          "base_uri": "https://localhost:8080/"
        },
        "id": "NA_osyDQJ1mG",
        "outputId": "aa99f667-8381-42d2-db44-d4d582103f52"
      },
      "execution_count": 9,
      "outputs": [
        {
          "output_type": "stream",
          "name": "stdout",
          "text": [
            "Training set size: (583, 6)\n",
            "Testing set size: (146, 6)\n"
          ]
        }
      ]
    },
    {
      "cell_type": "markdown",
      "source": [
        "## **Training Linear Regression model**\n"
      ],
      "metadata": {
        "id": "T3_LJoY2Mju8"
      }
    },
    {
      "cell_type": "code",
      "source": [
        "model_lr = LinearRegression()\n",
        "model_lr.fit(X_train, y_train)\n",
        "print(\"Linear Regression - Model Coefficients:\", model_lr.coef_)\n",
        "print(\"Linear Regression - Model Intercept:\", model_lr.intercept_)"
      ],
      "metadata": {
        "colab": {
          "base_uri": "https://localhost:8080/"
        },
        "id": "5pqFUOj5J3mi",
        "outputId": "41d8d3ca-3434-4770-96ec-9615d98944ae"
      },
      "execution_count": 10,
      "outputs": [
        {
          "output_type": "stream",
          "name": "stdout",
          "text": [
            "Linear Regression - Model Coefficients: [-9.85157628e-02 -3.26696634e-02  2.71194629e-01  3.25138558e-04\n",
            "  5.32149237e+00  1.72281048e-04]\n",
            "Linear Regression - Model Intercept: -64.1454758229305\n"
          ]
        }
      ]
    },
    {
      "cell_type": "markdown",
      "source": [
        "## **Evaluating the model**\n"
      ],
      "metadata": {
        "id": "0wWUOz5jMppw"
      }
    },
    {
      "cell_type": "code",
      "source": [
        "y_pred_lr = model_lr.predict(X_test)\n",
        "mae_lr = mean_absolute_error(y_test, y_pred_lr)\n",
        "rmse_lr = np.sqrt(mean_squared_error(y_test, y_pred_lr))"
      ],
      "metadata": {
        "id": "wK_xufNyJ7ar"
      },
      "execution_count": 11,
      "outputs": []
    },
    {
      "cell_type": "code",
      "source": [
        "average_consumption = y_train.mean()\n",
        "print(\"\\nEvaluation Metrics:\")\n",
        "print(\"Linear Regression - Mean Absolute Error (MAE):\", mae_lr, \"kWh\")\n",
        "print(\"Linear Regression - Root Mean Squared Error (RMSE):\", rmse_lr, \"kWh\")\n",
        "print(\"Linear Regression - MAE % of average:\", (mae_lr / average_consumption) * 100, \"%\")\n",
        "print(\"Linear Regression - RMSE % of average:\", (rmse_lr / average_consumption) * 100, \"%\")\n"
      ],
      "metadata": {
        "colab": {
          "base_uri": "https://localhost:8080/"
        },
        "id": "FS2-uHzuJ8Zl",
        "outputId": "2c03adee-7dc9-4ebc-e8ae-917093d9b547"
      },
      "execution_count": 12,
      "outputs": [
        {
          "output_type": "stream",
          "name": "stdout",
          "text": [
            "\n",
            "Evaluation Metrics:\n",
            "Linear Regression - Mean Absolute Error (MAE): 0.8639896159410642 kWh\n",
            "Linear Regression - Root Mean Squared Error (RMSE): 2.237590833256437 kWh\n",
            "Linear Regression - MAE % of average: 3.303386072368465 %\n",
            "Linear Regression - RMSE % of average: 8.55522596320518 %\n"
          ]
        }
      ]
    },
    {
      "cell_type": "markdown",
      "source": [
        "## **Visualization of predictions**\n"
      ],
      "metadata": {
        "id": "gN82IZVjMxmZ"
      }
    },
    {
      "cell_type": "code",
      "source": [
        "plt.figure(figsize=(10, 6))\n",
        "plt.scatter(y_test, y_pred_lr, color='blue', label='Actual Prediction')\n",
        "plt.plot([y_test.min(), y_test.max()], [y_test.min(), y_test.max()], 'r--', lw=2, label='Perfect Prediction')\n",
        "plt.xlabel('Actual Energy Consumption (kWh)')\n",
        "plt.ylabel('Predicted Energy Consumption (kWh)')\n",
        "plt.title('Actual vs Predicted Energy Consumption (Linear Regression)')\n",
        "plt.legend()\n",
        "plt.show()"
      ],
      "metadata": {
        "colab": {
          "base_uri": "https://localhost:8080/",
          "height": 564
        },
        "id": "hk1w7gzWKFQU",
        "outputId": "a1c3021f-402e-466d-bc18-c164a5012655"
      },
      "execution_count": 13,
      "outputs": [
        {
          "output_type": "display_data",
          "data": {
            "text/plain": [
              "<Figure size 1000x600 with 1 Axes>"
            ],
            "image/png": "[encoded data removed]"
          },
          "metadata": {}
        }
      ]
    },
    {
      "cell_type": "code",
      "source": [
        "# Save the model\n",
        "joblib.dump(model_lr, 'energy_consumption_model.pkl')\n",
        "print(\"Model saved as 'energy_consumption_model.pkl'\")"
      ],
      "metadata": {
        "id": "IUQEkFHqH8Nb",
        "colab": {
          "base_uri": "https://localhost:8080/"
        },
        "outputId": "e87d3ad2-3146-4c8f-f97c-d8bdfcbd26ea"
      },
      "execution_count": 14,
      "outputs": [
        {
          "output_type": "stream",
          "name": "stdout",
          "text": [
            "Model saved as 'energy_consumption_model.pkl'\n"
          ]
        }
      ]
    },
    {
      "cell_type": "code",
      "source": [],
      "metadata": {
        "id": "XGos_G9yNkvj"
      },
      "execution_count": null,
      "outputs": []
    },
    {
      "cell_type": "code",
      "source": [],
      "metadata": {
        "id": "2iOlmSiCNkrV"
      },
      "execution_count": null,
      "outputs": []
    },
    {
      "cell_type": "code",
      "source": [],
      "metadata": {
        "id": "oaUuIoEENle7"
      },
      "execution_count": null,
      "outputs": []
    },
    {
      "cell_type": "code",
      "source": [],
      "metadata": {
        "id": "eww9BNmlNknt"
      },
      "execution_count": null,
      "outputs": []
    }
  ]
}